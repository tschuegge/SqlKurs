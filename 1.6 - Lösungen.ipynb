{
 "cells": [
  {
   "cell_type": "code",
   "execution_count": null,
   "metadata": {},
   "outputs": [],
   "source": [
    "# Ausführen um die Verbindung zur Datenbank aufzubauen\n",
    "\n",
    "import urllib.request\n",
    "urllib.request.urlretrieve(\"https://github.com/tschuegge/SqlKurs/raw/master/connect.py\", \"connect.py\")\n",
    "def sql(): pass\n",
    "%run ./connect.py"
   ]
  },
  {
   "cell_type": "code",
   "execution_count": null,
   "metadata": {},
   "outputs": [],
   "source": [
    "# Aufgabe 1.6.1\n",
    "sql(\"\"\"\n",
    "\n",
    "INSERT INTO kunde (kundennr, name, vorname, strasse, plz, ort, telefonprivat, email, zahlungsart)\n",
    "  VALUES (\n",
    "    (SELECT MAX(kundennr) + 1 FROM kunde),\n",
    "    'Iten',\n",
    "    'Raphaela',\n",
    "    'Alte Zugerbergstrasse 43',\n",
    "    '6314',\n",
    "    'Unterägeri',\n",
    "    '041 754 23 85',\n",
    "    'r.iten@bluewin.ch',\n",
    "    'R'\n",
    ")\n",
    "\n",
    "\"\"\")"
   ]
  },
  {
   "cell_type": "code",
   "execution_count": null,
   "metadata": {},
   "outputs": [],
   "source": [
    "# Aufgabe 1.6.2\n",
    "sql(\"\"\"\n",
    "\n",
    "-- Die Aufgabe kann mit drei einzelnen Update-Statements oder\n",
    "-- einer Common Table Expression realisiert werden\n",
    "\n",
    "-- Variante Update-Statements:\n",
    "-- UPDATE kunde SET ort = 'Buchs AG' WHERE plz = '5033';\n",
    "-- UPDATE kunde SET ort = 'Buchs ZH' WHERE plz = '8107';\n",
    "-- UPDATE kunde SET ort = 'Buchs SG' WHERE plz = '9470';\n",
    "\n",
    "-- Variante Common Table Expression:\n",
    "WITH Buchs_CTE(plz, ort) AS (\n",
    "  VALUES ('5033', 'Buchs AG'),  -- Alternativ können die Werte als SELECT/UNION SELECT angegeben werden\n",
    "         ('8107', 'Buchs ZH'),\n",
    "         ('9470', 'Buchs SG')\n",
    ")\n",
    "UPDATE kunde SET ort = (SELECT ort FROM Buchs_CTE WHERE plz = kunde.plz)\n",
    "  WHERE plz in (SELECT plz FROM Buchs_CTE)\n",
    "\n",
    "\"\"\")"
   ]
  },
  {
   "cell_type": "code",
   "execution_count": null,
   "metadata": {},
   "outputs": [],
   "source": [
    "# Aufgabe 1.6.3\n",
    "sql(\"\"\"\n",
    "\n",
    "INSERT INTO kunde(kundennr, name, vorname, strasse, plz, ort, telefongeschaeft, email, zahlungsart)\n",
    "SELECT\n",
    "  (SELECT MAX(kundennr) + mitarbeiternr FROM kunde),  -- Da Mitarbeiternummer bei 1 beginnt und aufsteigend ist, eignet sie sich um die Kundennummer zu bilden\n",
    "  name,\n",
    "  vorname,\n",
    "  strasse,\n",
    "  plz,\n",
    "  ort,\n",
    "  telefon,\n",
    "  email,\n",
    "  'K'\n",
    "FROM mitarbeiter\n",
    "\n",
    "\"\"\")"
   ]
  },
  {
   "cell_type": "code",
   "execution_count": null,
   "metadata": {},
   "outputs": [],
   "source": [
    "# Aufgabe 1.6.4\n",
    "sql(\"\"\"\n",
    "\n",
    "-- Zuerst Bestellungspositionen löschen\n",
    "DELETE FROM bestellungposition WHERE bestellungkopfid IN (SELECT id FROM bestellungkopf WHERE bestelldatum < '2011-01-01');\n",
    "\n",
    "\"\"\")\n",
    "sql(\"\"\"\n",
    "\n",
    "-- Danach die Bestellungsköpfe löschen\n",
    "DELETE FROM bestellungkopf WHERE bestelldatum < '2011-01-01';\n",
    "\n",
    "\"\"\")"
   ]
  },
  {
   "cell_type": "code",
   "execution_count": null,
   "metadata": {},
   "outputs": [],
   "source": [
    "# Aufgabe 1.6.5\n",
    "sql(\"\"\"\n",
    "\n",
    "WITH PosPrice_CTE(bestellkopfid, price) as (\n",
    "  SELECT\n",
    "    p.bestellungkopfid,\n",
    "    SUM(p.liefermenge * a.nettopreis * (1 + m.satz/100))\n",
    "  FROM bestellungposition p\n",
    "    INNER JOIN artikel a ON a.id = p.artikelid\n",
    "    INNER JOIN mwstsatz m ON m.id = a.mwstid\n",
    "  GROUP BY p.bestellungkopfid\n",
    ")\n",
    "UPDATE bestellungkopf SET rechnungsbetrag = (SELECT price FROM PosPrice_CTE WHERE bestellkopfid = bestellungkopf.id)\n",
    "\n",
    "\"\"\")"
   ]
  }
 ],
 "metadata": {
  "interpreter": {
   "hash": "31f2aee4e71d21fbe5cf8b01ff0e069b9275f58929596ceb00d14d90e3e16cd6"
  },
  "kernelspec": {
   "display_name": "Python 3.8.9 64-bit",
   "name": "python3"
  },
  "language_info": {
   "codemirror_mode": {
    "name": "ipython",
    "version": 3
   },
   "file_extension": ".py",
   "mimetype": "text/x-python",
   "name": "python",
   "nbconvert_exporter": "python",
   "pygments_lexer": "ipython3",
   "version": "3.9.12"
  },
  "orig_nbformat": 4
 },
 "nbformat": 4,
 "nbformat_minor": 2
}
