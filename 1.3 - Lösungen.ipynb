{
 "cells": [
  {
   "cell_type": "code",
   "execution_count": null,
   "metadata": {},
   "outputs": [],
   "source": [
    "# Ausführen um die Verbindung zur Datenbank aufzubauen\n",
    "\n",
    "import urllib.request, os\n",
    "if not os.path.isdir(\"resources\"): os.mkdir(\"resources\")\n",
    "urllib.request.urlretrieve(\"https://github.com/tschuegge/SqlKurs/raw/master/resources/connect.py\", \"resources/connect.py\")\n",
    "def query(): pass\n",
    "%run ./resources/connect.py"
   ]
  },
  {
   "cell_type": "code",
   "execution_count": null,
   "metadata": {},
   "outputs": [],
   "source": [
    "# Aufgabe 1.3.1\n",
    "query(\"\"\"\n",
    "\n",
    "SELECT\n",
    "  a.artikelnr Artikelnummer,\n",
    "  a.bezeichnung Artikelbezeichnung,\n",
    "  m.satz MwstSatz,\n",
    "  k.bezeichnung Kategoriebezeichnung\n",
    "FROM artikel a\n",
    "  LEFT JOIN mwstsatz m ON m.id = a.mwstid\n",
    "  LEFT JOIN artikelkategorie k ON k.id = a.kategorieid\n",
    "\n",
    "\"\"\")"
   ]
  },
  {
   "cell_type": "code",
   "execution_count": null,
   "metadata": {},
   "outputs": [],
   "source": [
    "# Aufgabe 1.3.2\n",
    "query(\"\"\"\n",
    "\n",
    "SELECT m.name, m.vorname, b.bestelldatum\n",
    "FROM mitarbeiter m\n",
    "  INNER JOIN bestellungkopf b ON b.verkaeuferid = m.id\n",
    "\n",
    "-- Durch den Inner Join werden alle Mitarbeitenden ausgefiltert, welche nichts verkauft haben\n",
    "\n",
    "\"\"\")"
   ]
  },
  {
   "cell_type": "code",
   "execution_count": null,
   "metadata": {},
   "outputs": [],
   "source": [
    "# Aufgabe 1.3.3\n",
    "query(\"\"\"\n",
    "\n",
    "SELECT b.*  -- Alle Spalten der Tabelle 'bestellungkopf' (Alias 'b') werden ausgegeben\n",
    "FROM bestellungkopf b\n",
    "  INNER JOIN mitarbeiter m ON m.id = b.verkaeuferid\n",
    "  INNER JOIN abteilung a ON a.id = m.abteilungid\n",
    "WHERE a.bezeichnung <> 'Vertrieb'\n",
    "\n",
    "\"\"\")"
   ]
  },
  {
   "cell_type": "code",
   "execution_count": null,
   "metadata": {},
   "outputs": [],
   "source": [
    "# Aufgabe 1.3.4\n",
    "query(\"\"\"\n",
    "\n",
    "SELECT a.*  -- 'DISTINCT' filtert doppelte Datensätze aus\n",
    "FROM artikel a\n",
    "  INNER JOIN bestellungposition p ON p.artikelid = a.id\n",
    "  INNER JOIN bestellungkopf b ON b.id = p.bestellungkopfid\n",
    "  INNER JOIN kunde k ON k.id = b.kundeid\n",
    "WHERE k.ort = 'Widnau'\n",
    "\n",
    "\"\"\")"
   ]
  },
  {
   "cell_type": "code",
   "execution_count": null,
   "metadata": {},
   "outputs": [],
   "source": [
    "# Aufgabe 1.3.5\n",
    "query(\"\"\"\n",
    "\n",
    "SELECT DISTINCT abt.bezeichnung\n",
    "FROM abteilung abt\n",
    "  INNER JOIN mitarbeiter ma ON ma.abteilungid = abt.id\n",
    "  INNER JOIN bestellungkopf bk ON bk.verkaeuferid = ma.id\n",
    "  INNER JOIN bestellungposition bp ON bp.bestellungkopfid = bk.id\n",
    "  INNER JOIN artikel art ON art.id = bp.artikelid\n",
    "  INNER JOIN hersteller h ON h.id = art.herstellerid\n",
    "WHERE h.name = 'Belinea'\n",
    "\n",
    "\"\"\")"
   ]
  },
  {
   "cell_type": "code",
   "execution_count": null,
   "metadata": {},
   "outputs": [],
   "source": [
    "# Aufgabe 1.3.6\n",
    "query(\"\"\"\n",
    "\n",
    "SELECT a.*\n",
    "FROM artikel a\n",
    "  INNER JOIN mwstsatz m ON m.id = a.mwstid\n",
    "WHERE m.satz < 7.7\n",
    "\n",
    "-- Es ist möglich, dass korrekterweise keine Datensätze zurückgegeben werden\n",
    "\n",
    "\"\"\")"
   ]
  },
  {
   "cell_type": "code",
   "execution_count": null,
   "metadata": {},
   "outputs": [],
   "source": [
    "# Aufgabe 1.3.7\n",
    "query(\"\"\"\n",
    "\n",
    "SELECT *\n",
    "FROM bestellungkopf b\n",
    "  LEFT JOIN kunde k ON k.id = b.kundeid \n",
    "  LEFT JOIN kunde v ON v.id = b.vermittlerid\n",
    "WHERE k.ort = 'Emmen' OR v.ort = 'Emmen'\n",
    "\n",
    "-- Ein Left Join ist zwingend, da sonst alle Bestellungen ausgefiltert werden\n",
    "-- welche nicht von jemandem aus Emmen bestellt UND vermittelt wurden\n",
    "\n",
    "\"\"\")"
   ]
  },
  {
   "cell_type": "code",
   "execution_count": null,
   "metadata": {},
   "outputs": [],
   "source": [
    "# Aufgabe 1.3.8\n",
    "query(\"\"\"\n",
    "\n",
    "SELECT \n",
    "  a.artikelnr,\n",
    "  ROUND(a.nettopreis * (1 + m.satz/100), 2) bruttopreis  -- ROUND(x, y) rundet die Zahl 'x' auf 'y' Stellen hinter dem Komma\n",
    "FROM artikel a\n",
    "  INNER JOIN mwstsatz m ON m.id = a.mwstid;\n",
    "\n",
    "\"\"\")"
   ]
  }
 ],
 "metadata": {
  "interpreter": {
   "hash": "31f2aee4e71d21fbe5cf8b01ff0e069b9275f58929596ceb00d14d90e3e16cd6"
  },
  "kernelspec": {
   "display_name": "Python 3.8.9 64-bit",
   "name": "python3"
  },
  "language_info": {
   "codemirror_mode": {
    "name": "ipython",
    "version": 3
   },
   "file_extension": ".py",
   "mimetype": "text/x-python",
   "name": "python",
   "nbconvert_exporter": "python",
   "pygments_lexer": "ipython3",
   "version": "3.9.9"
  },
  "orig_nbformat": 4
 },
 "nbformat": 4,
 "nbformat_minor": 2
}
