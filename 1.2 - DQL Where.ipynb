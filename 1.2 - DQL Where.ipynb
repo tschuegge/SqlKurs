{
 "cells": [
  {
   "cell_type": "markdown",
   "metadata": {},
   "source": [
    "# SQL Kurs Teil 1.2: DQL Where Conditions\n",
    "\n",
    "`WHERE` filtert Daten welche aus der Datenbank abgerufen werden.\n",
    "\n",
    "## Syntax\n",
    "```sql\n",
    "SELECT {Resultat-Spalten} FROM {Tabelle} WHERE {Expression}\n",
    "```\n",
    "\n",
    "\n",
    "### Vergleich\n",
    "\n",
    "Expressions sind meistens Vergleiche:\n",
    "\n",
    "```sql\n",
    "{Spalte} = {Vergleichswert}  -- Datensätze selektieren, bei denen Wert ist gleich ist\n",
    "{Spalte} <> {Vergleichswert} -- Datensätze selektieren, bei denen Wert ist ungleich ist\n",
    "{Spalte} < {Vergleichswert}  -- Datensätze selektieren, bei denen Wert ist grösser ist\n",
    "{Spalte} > {Vergleichswert}  -- Datensätze selektieren, bei denen Wert ist kleiner ist\n",
    "{Spalte} <= {Vergleichswert} -- Datensätze selektieren, bei denen Wert ist grösser oder gleich ist\n",
    "{Spalte} >= {Vergleichswert} -- Datensätze selektieren, bei denen Wert ist kleiner oder gleich ist\n",
    "```\n",
    "```sql\n",
    "WHERE bezeichnung = 'Auto'   -- Selektiert alles, was die Bezeichnung 'Auto' trägt\n",
    "WHERE nettopreis < 6000      -- Selektiert alles, was günstiger wie 6000 ist (also 5999 und günstiger, nicht 6000)\n",
    "```\n",
    "\n",
    "\n",
    "### Suche in Zeichenketten\n",
    "\n",
    "Mit `LIKE` kann mit Platzhaltern in Zeichenketten gefiltert werden. `%` steht dabei für mehrere Zeichen und `_` für ein einzelnes Zeichen:\n",
    "\n",
    "```sql\n",
    "{Spalte} LIKE {Vergleichswert}\n",
    "{Spalte} NOT LIKE {Vergleichswert}\n",
    "```\n",
    "```sql\n",
    "WHERE bezeichnung LIKE 'A%'    -- Selektiert alles, was mit 'A' beginnt\n",
    "WHERE bezeichnung LIKE '_aus%' -- Selektiert 'Haustüre', 'Mauseloch', usw. auch 'Laus' nicht aber 'Klaus'\n",
    "```\n",
    "\n",
    "\n",
    "### Suche nach nicht gesetzten Werten (NULL)\n",
    "\n",
    "Mit `IS NULL` kann nach nicht gesetzten Werten gefiltert werden\n",
    "\n",
    "```sql\n",
    "{Spalte} IS NULL\n",
    "{Spalte} IS NOT NULL\n",
    "```\n",
    "```sql\n",
    "WHERE ort IS NULL             -- Selektiert alles bei dem kein Ort gesetzt wurde\n",
    "WHERE lieferdatum IS NOT NULL -- Selektiert alles was noch nicht geliefert wurde\n",
    "```\n",
    "\n",
    "\n",
    "### Verkettung von Vergleichen\n",
    "\n",
    "Vergleiche können mit `AND` (alle Vergleiche müssen zutreffen) und `OR` (nur ein Vergleich muss zutreffen) verkettet werden:\n",
    "\n",
    "```sql\n",
    "{Vergleich A} AND {Vergleich B}\n",
    "{Vergleich A} OR {Vergleich B}\n",
    "```\n",
    "```sql\n",
    "WHERE ort LIKE 'Z%' AND vorname = 'Tom' -- Selektiert alles bei dem der Ort mit 'Z' beginne und der Vorname 'Tom' ist\n",
    "WHERE nettopreis > 5000 OR nettopreis < 2000 -- Selektiert alles bei dem der Nettopreis kleiner wie 2000 oder grösser wie 5000 ist\n",
    "```\n",
    "\n",
    "\n",
    "Weitere Informationen: [SQL Language Expressions](https://www.sqlite.org/lang_expr.html)\n",
    "\n",
    "\n",
    "## Beispiele\n",
    "\n",
    "Alle Artikel ausgeben, die teurer sind wie 1000 Franken:\n",
    "```sql\n",
    "SELECT * FROM artikel WHERE nettopreis > 1000\n",
    "```\n",
    "\n",
    "Alle Kunden, welche in einer Ortschaft wohnen, welche die PLZ mit 7 oder 8 beginnt\n",
    "```sql\n",
    "SELECT * FROM kunde WHERE plz LIKE '8%' OR plz LIKE '7%'\n",
    "```\n",
    "\n",
    "Berechnete Werte können auch verwendet werden, z.B. zum ermitteln, wer über CHF 100000 Jahresgehalt bekommt.\n",
    "```sql\n",
    "SELECT * FROM mitarbeiter WHERE gehalt * 12 > 100000\n",
    "```"
   ]
  },
  {
   "cell_type": "markdown",
   "metadata": {},
   "source": [
    "## Aufgaben"
   ]
  },
  {
   "cell_type": "code",
   "execution_count": null,
   "metadata": {},
   "outputs": [],
   "source": [
    "# Ausführen um die Verbindung zur Datenbank aufzubauen\n",
    "\n",
    "import sqlite3\n",
    "import pandas as pd\n",
    "import urllib.request\n",
    "\n",
    "urllib.request.urlretrieve(\"https://github.com/tschuegge/SqlKurs/raw/master/database.db\", \"database.db\")\n",
    "conn = sqlite3.connect(\"database.db\")\n",
    "\n",
    "def query(query):\n",
    "  return pd.read_sql_query(query, conn)\n",
    "\n",
    "print(\"😊 Verbunden mit Sqlite \" + sqlite3.sqlite_version)"
   ]
  },
  {
   "cell_type": "markdown",
   "metadata": {},
   "source": [
    "### Aufgabe 1.2.1\n",
    "\n",
    "Rufe alle Kunden ab, die in Bern wohnen."
   ]
  },
  {
   "cell_type": "code",
   "execution_count": null,
   "metadata": {},
   "outputs": [],
   "source": [
    "query(\"\"\"\n",
    "\n",
    "\n",
    "\n",
    "\"\"\")"
   ]
  },
  {
   "cell_type": "markdown",
   "metadata": {},
   "source": [
    "### Aufgabe 1.2.2\n",
    "\n",
    "Ermittle alle Informationen von Kunden, deren Zahlungsart 'K', 'R' oder 'N' ist und sortiere zur Kontrolle nach Zahlungsart."
   ]
  },
  {
   "cell_type": "code",
   "execution_count": null,
   "metadata": {},
   "outputs": [],
   "source": [
    "query(\"\"\"\n",
    "\n",
    "\n",
    "\n",
    "\"\"\")"
   ]
  },
  {
   "cell_type": "markdown",
   "metadata": {},
   "source": [
    "### Aufgabe 1.2.3\n",
    "\n",
    "Gib alle Mitarbeiter aus, welche weniger wie 90000 Franken Jahreslohn (12 Monate) haben, wenn eine Bonuszahlung von 5000 Franken berücksichtigt wird."
   ]
  },
  {
   "cell_type": "code",
   "execution_count": null,
   "metadata": {},
   "outputs": [],
   "source": [
    "query(\"\"\"\n",
    "\n",
    "\n",
    "\n",
    "\"\"\")"
   ]
  },
  {
   "cell_type": "markdown",
   "metadata": {},
   "source": [
    "### Aufgabe 1.2.4\n",
    "\n",
    "Gibt alle Windows-Editionen aus dem Artikelstamm aus."
   ]
  },
  {
   "cell_type": "code",
   "execution_count": null,
   "metadata": {},
   "outputs": [],
   "source": [
    "query(\"\"\"\n",
    "\n",
    "\n",
    "\n",
    "\"\"\")"
   ]
  },
  {
   "cell_type": "markdown",
   "metadata": {},
   "source": [
    "### Aufgabe 1.2.5\n",
    "\n",
    "Gib alle Artikel aus, welche noch 4-stellige Artikelnummern haben."
   ]
  },
  {
   "cell_type": "code",
   "execution_count": null,
   "metadata": {},
   "outputs": [],
   "source": [
    "query(\"\"\"\n",
    "\n",
    "\n",
    "\n",
    "\"\"\")"
   ]
  },
  {
   "cell_type": "markdown",
   "metadata": {},
   "source": [
    "### Aufgabe 1.2.6\n",
    "\n",
    "Gib alle Hersteller aus, bei denen 'on' im Namen vorkommt."
   ]
  },
  {
   "cell_type": "code",
   "execution_count": null,
   "metadata": {},
   "outputs": [],
   "source": [
    "query(\"\"\"\n",
    "\n",
    "\n",
    "\n",
    "\"\"\")"
   ]
  },
  {
   "cell_type": "markdown",
   "metadata": {},
   "source": [
    "### Aufgabe 1.2.7\n",
    "\n",
    "Gib alle Kunden mit ungültigen E-Mailadressen aus."
   ]
  },
  {
   "cell_type": "code",
   "execution_count": null,
   "metadata": {},
   "outputs": [],
   "source": [
    "query(\"\"\"\n",
    "\n",
    "\n",
    "\n",
    "\"\"\")"
   ]
  },
  {
   "cell_type": "markdown",
   "metadata": {},
   "source": [
    "### Aufgabe 1.2.8\n",
    "\n",
    "Gib alle Mitarbeiter aus, welche die E-Mailadresse nicht nach dem aktuellen Schema (_vorname.nachname@tradingco.ch_) eingerichtet haben."
   ]
  },
  {
   "cell_type": "code",
   "execution_count": null,
   "metadata": {},
   "outputs": [],
   "source": [
    "query(\"\"\"\n",
    "\n",
    "\n",
    "\n",
    "\"\"\")"
   ]
  }
 ],
 "metadata": {
  "interpreter": {
   "hash": "31f2aee4e71d21fbe5cf8b01ff0e069b9275f58929596ceb00d14d90e3e16cd6"
  },
  "kernelspec": {
   "display_name": "Python 3.8.9 64-bit",
   "name": "python3"
  },
  "language_info": {
   "codemirror_mode": {
    "name": "ipython",
    "version": 3
   },
   "file_extension": ".py",
   "mimetype": "text/x-python",
   "name": "python",
   "nbconvert_exporter": "python",
   "pygments_lexer": "ipython3",
   "version": "3.8.9"
  },
  "orig_nbformat": 4
 },
 "nbformat": 4,
 "nbformat_minor": 2
}
