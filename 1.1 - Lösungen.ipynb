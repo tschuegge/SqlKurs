{
 "cells": [
  {
   "cell_type": "code",
   "execution_count": null,
   "metadata": {},
   "outputs": [],
   "source": [
    "# Ausführen um die Verbindung zur Datenbank aufzubauen\n",
    "\n",
    "import urllib.request, os\n",
    "if not os.path.isdir(\"resources\"): os.mkdir(\"resources\")\n",
    "urllib.request.urlretrieve(\"https://github.com/tschuegge/SqlKurs/raw/master/resources/connect.py\", \"resources/connect.py\")\n",
    "def query(): pass\n",
    "%run ./resources/connect.py"
   ]
  },
  {
   "cell_type": "code",
   "execution_count": null,
   "metadata": {},
   "outputs": [],
   "source": [
    "# Aufgabe 1.1.1\n",
    "query(\"\"\"\n",
    "\n",
    "SELECT * FROM mitarbeiter ORDER BY name\n",
    "\n",
    "\"\"\")"
   ]
  },
  {
   "cell_type": "code",
   "execution_count": null,
   "metadata": {},
   "outputs": [],
   "source": [
    "# Aufgabe 1.1.2\n",
    "query(\"\"\"\n",
    "\n",
    "SELECT vorname, name, ort\n",
    "FROM kunde\n",
    "ORDER BY ort, name  -- Mehrere Sortierungen werden durch Komma getrennt\n",
    "\n",
    "\"\"\")"
   ]
  },
  {
   "cell_type": "code",
   "execution_count": null,
   "metadata": {},
   "outputs": [],
   "source": [
    "# Aufgabe 1.1.3\n",
    "query(\"\"\"\n",
    "\n",
    "SELECT\n",
    "  name || ' ' || vorname name,\n",
    "  plz || ' ' || ort ort,\n",
    "  'CHF ' || gehalt lohn\n",
    "FROM mitarbeiter\n",
    "ORDER BY gehalt  -- Vorsicht nicht nach 'lohn' sortieren\n",
    "                 -- 'lohn' ist eine Zeichenkette und es würde nach\n",
    "                 -- Zeichen und nicht nach Wert sortiert werden\n",
    "\n",
    "\"\"\")"
   ]
  },
  {
   "cell_type": "code",
   "execution_count": null,
   "metadata": {},
   "outputs": [],
   "source": [
    "# Aufgabe 1.1.4\n",
    "query(\"\"\"\n",
    "\n",
    "SELECT id, artikelnr, bezeichnung, nettopreis FROM artikel ORDER BY nettopreis DESC\n",
    "\n",
    "\"\"\")"
   ]
  }
 ],
 "metadata": {
  "interpreter": {
   "hash": "31f2aee4e71d21fbe5cf8b01ff0e069b9275f58929596ceb00d14d90e3e16cd6"
  },
  "kernelspec": {
   "display_name": "Python 3.8.9 64-bit",
   "name": "python3"
  },
  "language_info": {
   "codemirror_mode": {
    "name": "ipython",
    "version": 3
   },
   "file_extension": ".py",
   "mimetype": "text/x-python",
   "name": "python",
   "nbconvert_exporter": "python",
   "pygments_lexer": "ipython3",
   "version": "3.9.9"
  },
  "orig_nbformat": 4
 },
 "nbformat": 4,
 "nbformat_minor": 2
}
