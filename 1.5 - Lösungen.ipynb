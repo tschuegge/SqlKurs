{
 "cells": [
  {
   "cell_type": "code",
   "execution_count": null,
   "metadata": {},
   "outputs": [],
   "source": [
    "# Ausführen um die Verbindung zur Datenbank aufzubauen\n",
    "\n",
    "import sqlite3\n",
    "import pandas as pd\n",
    "import urllib.request\n",
    "\n",
    "urllib.request.urlretrieve(\"https://github.com/tschuegge/SqlKurs/raw/master/database.db\", \"database.db\")\n",
    "conn = sqlite3.connect(\"database.db\")\n",
    "\n",
    "def query(query):\n",
    "  return pd.read_sql_query(query, conn)\n",
    "\n",
    "print(\"😊 Verbunden mit Sqlite \" + sqlite3.sqlite_version)"
   ]
  },
  {
   "cell_type": "code",
   "execution_count": null,
   "metadata": {},
   "outputs": [],
   "source": [
    "# Aufgabe 1.5.1\n",
    "query(\"\"\"\n",
    "\n",
    "SELECT *\n",
    "FROM hersteller h\n",
    "WHERE h.id NOT IN (SELECT a.herstellerid\n",
    "                   FROM artikel a\n",
    "                     INNER JOIN bestellungposition p ON p.artikelid = a.id\n",
    "                  )\n",
    "\n",
    "\"\"\")"
   ]
  },
  {
   "cell_type": "code",
   "execution_count": null,
   "metadata": {},
   "outputs": [],
   "source": [
    "# Aufgabe 1.5.2\n",
    "query(\"\"\"\n",
    "\n",
    "SELECT *\n",
    "FROM artikel a\n",
    "  INNER JOIN bestellungposition bp ON a.id = bp.bestellungkopfid\n",
    "  INNER JOIN bestellungkopf bk ON bk.id = bp.bestellungkopfid\n",
    "  INNER JOIN kunde kd ON bk.kundeid = kd.id\n",
    "WHERE kd.ort IN (SELECT ort FROM mitarbeiter)\n",
    "\n",
    "\"\"\")"
   ]
  },
  {
   "cell_type": "code",
   "execution_count": null,
   "metadata": {},
   "outputs": [],
   "source": [
    "# Aufgabe 1.5.3\n",
    "query(\"\"\"\n",
    "\n",
    "WITH Bestellmenge_CTE(Herstellername, VerkaeuferId, Bestellmenge) AS (\n",
    "  SELECT\n",
    "    h.name Herstellername,\n",
    "  \tk.verkaeuferid,\n",
    "    SUM(p.bestellmenge) Bestellmenge\n",
    "  FROM bestellungkopf k\n",
    "    LEFT JOIN bestellungposition p ON p.bestellungkopfid = k.id\n",
    "    LEFT JOIN artikel a ON a.id = p.artikelid\n",
    "    LEFT JOIN hersteller h ON h.id = a.herstellerid\n",
    "  GROUP BY k.verkaeuferid, h.id\n",
    ")\n",
    "SELECT\n",
    "  m.name,\n",
    "  m.vorname,\n",
    "  (SELECT Herstellername FROM Bestellmenge_CTE WHERE VerkaeuferId = m.id ORDER BY Bestellmenge DESC LIMIT 1)\n",
    "FROM mitarbeiter m\n",
    "  INNER JOIN abteilung a ON m.abteilungid = a.id\n",
    "WHERE a.bezeichnung = 'Vertrieb'\n",
    "\n",
    "\n",
    "\"\"\")"
   ]
  }
 ],
 "metadata": {
  "interpreter": {
   "hash": "31f2aee4e71d21fbe5cf8b01ff0e069b9275f58929596ceb00d14d90e3e16cd6"
  },
  "kernelspec": {
   "display_name": "Python 3.8.9 64-bit",
   "name": "python3"
  },
  "language_info": {
   "codemirror_mode": {
    "name": "ipython",
    "version": 3
   },
   "file_extension": ".py",
   "mimetype": "text/x-python",
   "name": "python",
   "nbconvert_exporter": "python",
   "pygments_lexer": "ipython3",
   "version": "3.8.9"
  },
  "orig_nbformat": 4
 },
 "nbformat": 4,
 "nbformat_minor": 2
}
