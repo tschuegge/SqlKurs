{
 "cells": [
  {
   "cell_type": "markdown",
   "metadata": {},
   "source": [
    "# SQL Kurs Teil 1.0: Einführung\n",
    "\n",
    "- SQL (_Structured Query Language_) ist eine standardisierte Sprache um Daten abzurufen und zu manipulieren\n",
    "- SQL ist eine deklarative Programmiersprache\n",
    "- Die Ausführung ist hoch optimiert und parallelisiert\n",
    "- Es gibt viele Standards und Dialekte\n",
    "  - SEQUEL (_Structured English Query Language_), Vorläufer von SQL\n",
    "  - SQL-86 / ANSI SQL / SQL1\n",
    "  - SQL-92 / SQL2\n",
    "  - SQL:1999 / SQL3\n",
    "  - weitere Versionen: SQL:2003, SQL/XML:2006, SQL:2008, SQL:2011, SQL:2016, SQL/MDA:2019\n",
    "  - Beispiele von Dialekten\n",
    "    - Transact-SQL / T-SQL: Microsoft und Sybase\n",
    "    - PL/pgSQL: PostgreSQL\n",
    "    - PL/SQL: Oracle\n",
    "    - MySQL, MariaDB, Sqlite, DB2, MaxDB, uvm.\n",
    "\n",
    "In diesem Kurs verwenden wir Sqlite.\n",
    "\n",
    "\n",
    "## Funktionsweise relationale Datenbank\n",
    "\n",
    "In diesem Kurs verwenden wir eine relationale Datenbank. Diese beteht aus Tabellen (Entitäten) und Beziehungen (Relationen) zwischen den Tabellen. Diese Struktur wird auch Datenmodell oder -schema genannt. In einer Tabelle können mehrere Spalten (auch Felder oder Attribute genannt) vorkommen, welche einen Typ besitzen. Der Typ legt fest, welche Art von Daten in der Spalte abgelegt werden können. Dies können beispielsweise Zeichenfolgen (text, char, varchar), Zahlen (integer, float, real), Daten (date, datetime) oder auch nichts (null) sein.\n",
    "\n",
    "Wenn wir einen Ausschnitt der Beispieldatenbank betrachten, sehen wir diese Struktur:\n",
    "\n",
    "![](./resources/erd-simple.drawio.svg)\n",
    "\n",
    "In diese Tabellen eingefügte Daten sind also untereinander verknüpft in dem der Primärschlüssel des zu verknüpfenden Datensatzes im Datensatz mit dem Fremdschlüssel eingefügt wird. Ein Fremdschlüssel ist also ein Wert, der als Primärschlüssel in einer (oder auch der gleichen) Tabelle vorkommt.\n",
    "\n",
    "![](./resources/relationaldatabase.drawio.svg)\n",
    "\n",
    "\n",
    "## Aufbau von SQL\n",
    "\n",
    "SQL ist in mehrere Bereiche aufgeteilt:\n",
    "- DQL (_Data Query Language_): Befehle um Daten abzurufen (wird häufig der DML zugeordnet)\n",
    "  - `SELECT`: Daten selektieren und abrufen\n",
    "- DML (_Data Manipulation Language_): Befehle um Daten zu verändern\n",
    "  - `INSERT`: Daten einfügen\n",
    "  - `UPDATE`: Daten aktualisieren\n",
    "  - `DELETE`: Daten löschen\n",
    "- DDL (_Data Definition Language_): Befehle um Daten zu definieren und strukturieren\n",
    "  - `CREATE`: Tabellen und weitere Elemente anlegen\n",
    "  - `ALTER`: Tabellen und weitere Elemente verändern\n",
    "  - `DROP`: Tabellen und weitere Elemente löschen\n",
    "- DCL (_Data Control Language_): Befehle um Berechtigungen zu kontrollieren\n",
    "  - `GRANT`: Berechtigungen gewähren\n",
    "  - `REVOKE`: Berechtigungen entziehen\n",
    "- TCL (_Transaction Control Language_): Steuerung von Transaktionen (wird häufig der DML zugeordnet)\n",
    "  - `COMMIT`: Bestätigung der Aktionen und definitives Schreiben der Daten\n",
    "  - `ROLLBACK`: Verwerfen der Aktionen daher werden Daten nicht geschrieben\n",
    "  - `SAVEPOINT`: Anlegen eines Speicherpunkts zu dem mit einem Rollback zurückgekehrt werden kann\n",
    "\n",
    "\n",
    "## Aufbau Beispiel Datenbank\n",
    "\n",
    "Die Beispiel Datenbank beinhaltet fiktive Testdaten, welche Daten aus einem Bestellsystem nachempfunden sind.\n",
    "\n",
    "![](./resources/erd.drawio.svg)"
   ]
  },
  {
   "cell_type": "markdown",
   "metadata": {},
   "source": [
    "# Ausführen von Befehlen auf der Datenbank\n",
    "\n",
    "Bei jedem Kapitel muss zuerst die Verbindung zur Datenbank hergestellt werden. Dabei wird die Datenbank jedesmal aus dem Repository geladen und zurückgesetzt."
   ]
  },
  {
   "cell_type": "code",
   "execution_count": null,
   "metadata": {},
   "outputs": [],
   "source": [
    "# Ausführen um die Verbindung zur Datenbank aufzubauen\n",
    "\n",
    "import urllib.request\n",
    "urllib.request.urlretrieve(\"https://github.com/tschuegge/SqlKurs/raw/master/connect.py\", \"connect.py\") # Lädt das Script für die Datenbankverbindung, da ev. nicht vorhanden (z.B. in Google Colab)\n",
    "def sql(): pass # Definiert die Funktion sql, damit diese im Notebook vorhanden ist, wird vom Verbindungsscript (connect.py) überschrieben\n",
    "%run ./connect.py # Verbindungsscript ausführen"
   ]
  },
  {
   "cell_type": "markdown",
   "metadata": {},
   "source": [
    "Anschliessend ist die Datenbank bereit um Befehle auszuführen."
   ]
  },
  {
   "cell_type": "code",
   "execution_count": null,
   "metadata": {},
   "outputs": [],
   "source": [
    "# SQL Abfragen müssen zwischen den Anführungszeichen geschrieben werden\n",
    "# Kommentare sind auch im SQL-Statement möglich\n",
    "\n",
    "sql(\"\"\"\n",
    "\n",
    "/*\n",
    " * Mehrzeiliger Kommentar in SQL\n",
    " */\n",
    "\n",
    "-- Einzeiliger Kommentar in SQL\n",
    "\n",
    "SELECT CASE WHEN (SELECT COUNT(*) FROM artikel) = 50 THEN '👍🏼 Die Abfrage wurde korrekt ausgeführt.' ELSE '👎🏼 Es ist ein Fehler aufgetreten!' END AS Ergebnis\n",
    "\n",
    "\"\"\")"
   ]
  }
 ],
 "metadata": {
  "interpreter": {
   "hash": "31f2aee4e71d21fbe5cf8b01ff0e069b9275f58929596ceb00d14d90e3e16cd6"
  },
  "kernelspec": {
   "display_name": "Python 3.8.9 64-bit",
   "name": "python3"
  },
  "language_info": {
   "codemirror_mode": {
    "name": "ipython",
    "version": 3
   },
   "file_extension": ".py",
   "mimetype": "text/x-python",
   "name": "python",
   "nbconvert_exporter": "python",
   "pygments_lexer": "ipython3",
   "version": "3.9.12"
  },
  "orig_nbformat": 4
 },
 "nbformat": 4,
 "nbformat_minor": 2
}
