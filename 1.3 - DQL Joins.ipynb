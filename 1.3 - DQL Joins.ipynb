{
 "cells": [
  {
   "cell_type": "markdown",
   "metadata": {},
   "source": [
    "# SQL Kurs Teil 1.3: DQL Joins\n",
    "\n",
    "Joins verbinden mehrere Tabellen.\n",
    "\n",
    "\n",
    "## Syntax\n",
    "\n",
    "```sql\n",
    "SELECT {Resultat-Spalten} FROM {Tabelle} {LEFT JOIN | INNER JOIN} {Verbundene Tabelle} ON {Expression}\n",
    "```\n",
    "\n",
    "\n",
    "### Left Join\n",
    "\n",
    "Häufig werden zwei Tabellen mit einem Left Join verbunden.\n",
    "\n",
    "```sql\n",
    "SELECT *\n",
    "FROM Schueler s -- der Tabelle wurde der Alias 's' vergeben (auf das Schlüsselwort 'AS' wurde verzichtet)\n",
    "  LEFT JOIN Klassen k ON s.KlasseId = k.Id\n",
    "```\n",
    "\n",
    "Dadurch werden alle Datensätze der Tabelle _Schueler_ im Resultat zurückgegeben:\n",
    "\n",
    "![](./resources/leftjoin.drawio.svg)\n",
    "\n",
    "\n",
    "### Inner Join\n",
    "\n",
    "Falls nur vollständige Datensätze benötigt werden, dann wird ein Inner Join verwendet\n",
    "\n",
    "```sql\n",
    "SELECT *\n",
    "FROM Schueler s\n",
    "  INNER JOIN Klassen k ON s.KlasseId = k.Id\n",
    "```\n",
    "\n",
    "Dadurch werden nur die Datensätze der Tabelle _Schueler_ zurückgegeben, welche einen Fremdschlüssel in der Spalte _KlasseId_ haben:\n",
    "\n",
    "![](./resources/innerjoin.drawio.svg)\n",
    "\n",
    "\n",
    "Weitere Informationen: [Determination of input data](https://www.sqlite.org/lang_select.html#fromclause)\n",
    "\n",
    "\n",
    "## Beispiele\n",
    "\n",
    "Alle Mitarbeiter mit der Abteilung:\n",
    "```sql\n",
    "SELECT * FROM mitarbeiter m LEFT JOIN abteilung a ON m.abteilungid = a.id \n",
    "```\n",
    "\n",
    "Es können mehrere Tabelle verbunden werden, z.B. zum Ermitteln aller Artikelnummern und Artikelbezeichnungen mit Herstellernamen und Kategorienamen:\n",
    "```sql\n",
    "SELECT\n",
    "  a.artikelnr Artikelnummer,\n",
    "  a.bezeichnung Artikelbezeichnung,\n",
    "  h.name Herstellername,\n",
    "  k.bezeichnung Artikelkategorie\n",
    "FROM artikel a\n",
    "  LEFT JOIN hersteller h ON a.herstellerid = h.id\n",
    "  LEFT JOIN artikelkategorie k ON a.artikelkategorieid = k.id \n",
    "```\n",
    "\n",
    "Bereits verbundene Tabellen können für weitere Verbindungen verwendet werden, z.B. zum Ermitteln aller Artikel, welche sich in Bestellungen befinden:\n",
    "```sql\n",
    "SELECT\n",
    "  b.id BestellID,\n",
    "  k.bestellmenge Bestellmenge,\n",
    "  a.artikelnr Artikelnummer,\n",
    "  a.bezeichnung Artikelbezeichnung\n",
    "FROM bestellungkopf b \n",
    "  INNER JOIN bestellungposition k ON k.bestellid = b.id\n",
    "  INNER JOIN artikel a ON a.id = k.artikelid\n",
    "```"
   ]
  },
  {
   "cell_type": "markdown",
   "metadata": {},
   "source": [
    "## Aufgaben"
   ]
  },
  {
   "cell_type": "code",
   "execution_count": null,
   "metadata": {},
   "outputs": [],
   "source": [
    "# Ausführen um die Verbindung zur Datenbank aufzubauen\n",
    "\n",
    "import urllib.request\n",
    "urllib.request.urlretrieve(\"https://github.com/tschuegge/SqlKurs/raw/master/connect.py\", \"connect.py\")\n",
    "def sql(): pass\n",
    "%run ./connect.py"
   ]
  },
  {
   "cell_type": "markdown",
   "metadata": {},
   "source": [
    "### Aufgabe 1.3.1\n",
    "\n",
    "Erstelle eine Artikelliste mit folgenden Spalten:\n",
    "- Artikelnummer\n",
    "- Bezeichnung\n",
    "- MwSt-Satz als Zahl\n",
    "- Kategoriebezeichnung"
   ]
  },
  {
   "cell_type": "code",
   "execution_count": null,
   "metadata": {},
   "outputs": [],
   "source": [
    "sql(\"\"\"\n",
    "\n",
    "\n",
    "\n",
    "\"\"\")"
   ]
  },
  {
   "cell_type": "markdown",
   "metadata": {},
   "source": [
    "### Aufgabe 1.3.2\n",
    "\n",
    "Rufe ab, wann welcher Mitarbeiter eine Bestellung verkaufte. Gib Vor- und Nachname sowie Bestelldatum aus."
   ]
  },
  {
   "cell_type": "code",
   "execution_count": null,
   "metadata": {},
   "outputs": [],
   "source": [
    "sql(\"\"\"\n",
    "\n",
    "\n",
    "\n",
    "\"\"\")"
   ]
  },
  {
   "cell_type": "markdown",
   "metadata": {},
   "source": [
    "### Aufgabe 1.3.3\n",
    "\n",
    "Gib alle Bestellungen aus, welche von Mitarbeitenden verkauft wurden, welche nicht zur Abteilung 'Vertrieb' gehört."
   ]
  },
  {
   "cell_type": "code",
   "execution_count": null,
   "metadata": {},
   "outputs": [],
   "source": [
    "sql(\"\"\"\n",
    "\n",
    "\n",
    "\n",
    "\"\"\")"
   ]
  },
  {
   "cell_type": "markdown",
   "metadata": {},
   "source": [
    "### Aufgabe 1.3.4\n",
    "\n",
    "Ermittle alle Artikel, welche von Kunden aus Widnau bestellt wurden."
   ]
  },
  {
   "cell_type": "code",
   "execution_count": null,
   "metadata": {},
   "outputs": [],
   "source": [
    "sql(\"\"\"\n",
    "\n",
    "\n",
    "\n",
    "\"\"\")"
   ]
  },
  {
   "cell_type": "markdown",
   "metadata": {},
   "source": [
    "### Aufgabe 1.3.5\n",
    "\n",
    "Ermittle alle Abteilungen, welche Produkte von Belinea verkauft haben."
   ]
  },
  {
   "cell_type": "code",
   "execution_count": null,
   "metadata": {},
   "outputs": [],
   "source": [
    "sql(\"\"\"\n",
    "\n",
    "\n",
    "\n",
    "\"\"\")"
   ]
  },
  {
   "cell_type": "markdown",
   "metadata": {},
   "source": [
    "### Aufgabe 1.3.6\n",
    "\n",
    "Ermittle alle Artikel die einen tieferen MwSt-Satz haben wie 7.7%."
   ]
  },
  {
   "cell_type": "code",
   "execution_count": null,
   "metadata": {},
   "outputs": [],
   "source": [
    "sql(\"\"\"\n",
    "\n",
    "\n",
    "\n",
    "\"\"\")"
   ]
  },
  {
   "cell_type": "markdown",
   "metadata": {},
   "source": [
    "### Aufgabe 1.3.7\n",
    "\n",
    "Gib alle Bestellungen aus, welche von Kunden aus Emmen bestellt oder vermittelt wurden."
   ]
  },
  {
   "cell_type": "code",
   "execution_count": null,
   "metadata": {},
   "outputs": [],
   "source": [
    "sql(\"\"\"\n",
    "\n",
    "\n",
    "\n",
    "\"\"\")"
   ]
  },
  {
   "cell_type": "markdown",
   "metadata": {},
   "source": [
    "### Aufgabe 1.3.8\n",
    "\n",
    "Erstelle eine Artikelliste mit allen Bruttopreisen."
   ]
  },
  {
   "cell_type": "code",
   "execution_count": null,
   "metadata": {},
   "outputs": [],
   "source": [
    "sql(\"\"\"\n",
    "\n",
    "\n",
    "\n",
    "\"\"\")"
   ]
  }
 ],
 "metadata": {
  "interpreter": {
   "hash": "31f2aee4e71d21fbe5cf8b01ff0e069b9275f58929596ceb00d14d90e3e16cd6"
  },
  "kernelspec": {
   "display_name": "Python 3.8.9 64-bit",
   "name": "python3"
  },
  "language_info": {
   "codemirror_mode": {
    "name": "ipython",
    "version": 3
   },
   "file_extension": ".py",
   "mimetype": "text/x-python",
   "name": "python",
   "nbconvert_exporter": "python",
   "pygments_lexer": "ipython3",
   "version": "3.9.12"
  },
  "orig_nbformat": 4
 },
 "nbformat": 4,
 "nbformat_minor": 2
}
