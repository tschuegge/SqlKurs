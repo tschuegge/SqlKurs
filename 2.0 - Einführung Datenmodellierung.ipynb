{
 "cells": [
  {
   "cell_type": "markdown",
   "metadata": {},
   "source": [
    "# SQL Kurs Teil 2.0: Einführung Modellierung\n",
    "\n",
    "In diesem Kurs verwenden wir eine relationale Datenbank. Diese beteht aus Tabellen (Entitäten) und Beziehungen (Relationen) zwischen den Tabellen.\n",
    "\n",
    "Wenn wir einen Ausschnitt der Beispieldatenbank betrachten, sehen wir diese Struktur:\n",
    "![](./resources/erd-simple.drawio.svg)\n",
    "\n",
    "In diese Tabellen eingefügte Daten sind also untereinander verknüpft in dem der Primärschlüssel des zu verknüpfenden Datensatzes im Datensatz mit dem Fremdschlüssel eingefügt wird. Ein Fremdschlüssel ist also ein Wert, der als Primärschlüssel in einer (oder auch der gleichen) Tabelle vorkommt.\n",
    "![](./resources/relationaldatabase.drawio.svg)"
   ]
  }
 ],
 "metadata": {
  "interpreter": {
   "hash": "31f2aee4e71d21fbe5cf8b01ff0e069b9275f58929596ceb00d14d90e3e16cd6"
  },
  "kernelspec": {
   "display_name": "Python 3.8.9 64-bit",
   "name": "python3"
  },
  "language_info": {
   "codemirror_mode": {
    "name": "ipython",
    "version": 3
   },
   "file_extension": ".py",
   "mimetype": "text/x-python",
   "name": "python",
   "nbconvert_exporter": "python",
   "pygments_lexer": "ipython3",
   "version": "3.9.12"
  },
  "orig_nbformat": 4
 },
 "nbformat": 4,
 "nbformat_minor": 2
}
