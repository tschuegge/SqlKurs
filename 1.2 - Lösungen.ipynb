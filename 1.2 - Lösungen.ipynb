{
 "cells": [
  {
   "cell_type": "code",
   "execution_count": null,
   "metadata": {},
   "outputs": [],
   "source": [
    "# Ausführen um die Verbindung zur Datenbank aufzubauen\n",
    "\n",
    "import urllib.request\n",
    "urllib.request.urlretrieve(\"https://github.com/tschuegge/SqlKurs/raw/master/connect.py\", \"connect.py\")\n",
    "def sql(): pass\n",
    "%run ./connect.py"
   ]
  },
  {
   "cell_type": "code",
   "execution_count": null,
   "metadata": {},
   "outputs": [],
   "source": [
    "# Aufgabe 1.2.1\n",
    "sql(\"\"\"\n",
    "\n",
    "SELECT * FROM kunde WHERE ort = 'Bern'\n",
    "\n",
    "\"\"\")"
   ]
  },
  {
   "cell_type": "code",
   "execution_count": null,
   "metadata": {},
   "outputs": [],
   "source": [
    "# Aufgabe 1.2.2\n",
    "sql(\"\"\"\n",
    "\n",
    "SELECT * FROM kunde WHERE zahlungsart = 'K' OR zahlungsart = 'V' OR zahlungsart = 'N'\n",
    "\n",
    "-- Alternative\n",
    "-- SELECT * FROM kunde WHERE zahlungsart IN ('K', 'V', 'N')\n",
    "\n",
    "\"\"\")"
   ]
  },
  {
   "cell_type": "code",
   "execution_count": null,
   "metadata": {},
   "outputs": [],
   "source": [
    "# Aufgabe 1.2.3\n",
    "sql(\"\"\"\n",
    "\n",
    "SELECT * FROM mitarbeiter WHERE gehalt * 12 + 5000 < 90000\n",
    "\n",
    "-- Vorsicht ob Klammern notwendig sind, im Zweifelsfall lieber zu viel Klammern setzen\n",
    "\n",
    "\"\"\")"
   ]
  },
  {
   "cell_type": "code",
   "execution_count": null,
   "metadata": {},
   "outputs": [],
   "source": [
    "# Aufgabe 1.2.4\n",
    "sql(\"\"\"\n",
    "\n",
    "SELECT * FROM artikel WHERE bezeichnung LIKE 'Windows%'\n",
    "\n",
    "\"\"\")"
   ]
  },
  {
   "cell_type": "code",
   "execution_count": null,
   "metadata": {},
   "outputs": [],
   "source": [
    "# Aufgabe 1.2.5\n",
    "sql(\"\"\"\n",
    "\n",
    "SELECT * FROM artikel WHERE length(artikelnr) <= 4\n",
    "\n",
    "-- 'artikelnr' ist eine Zeichenkette, daher muss zuerst die Länge dieser ermittelt werden.\n",
    "-- Durch '<=' werden auch Artikel gefunden, welche ev. noch kürzere Nummern haben.\n",
    "\n",
    "\"\"\")"
   ]
  },
  {
   "cell_type": "code",
   "execution_count": null,
   "metadata": {},
   "outputs": [],
   "source": [
    "# Aufgabe 1.2.6\n",
    "sql(\"\"\"\n",
    "\n",
    "SELECT * FROM hersteller WHERE name LIKE '%on%'\n",
    "\n",
    "\"\"\")"
   ]
  },
  {
   "cell_type": "code",
   "execution_count": null,
   "metadata": {},
   "outputs": [],
   "source": [
    "# Aufgabe 1.2.7\n",
    "sql(\"\"\"\n",
    "\n",
    "SELECT * FROM kunde WHERE email NOT LIKE '%@%.%'\n",
    "\n",
    "\"\"\")"
   ]
  },
  {
   "cell_type": "code",
   "execution_count": null,
   "metadata": {},
   "outputs": [],
   "source": [
    "# Aufgabe 1.2.8\n",
    "sql(\"\"\"\n",
    "\n",
    "SELECT * FROM mitarbeiter WHERE email <> lower(vorname) || '.' || lower(name) || '@tradingco.ch'\n",
    "\n",
    "-- Vorsicht, die Namen müssen zuerst in Kleinbuchstaben umgewandelt werden\n",
    "\n",
    "\"\"\")"
   ]
  }
 ],
 "metadata": {
  "interpreter": {
   "hash": "31f2aee4e71d21fbe5cf8b01ff0e069b9275f58929596ceb00d14d90e3e16cd6"
  },
  "kernelspec": {
   "display_name": "Python 3.8.9 64-bit",
   "name": "python3"
  },
  "language_info": {
   "codemirror_mode": {
    "name": "ipython",
    "version": 3
   },
   "file_extension": ".py",
   "mimetype": "text/x-python",
   "name": "python",
   "nbconvert_exporter": "python",
   "pygments_lexer": "ipython3",
   "version": "3.9.12"
  },
  "orig_nbformat": 4
 },
 "nbformat": 4,
 "nbformat_minor": 2
}
