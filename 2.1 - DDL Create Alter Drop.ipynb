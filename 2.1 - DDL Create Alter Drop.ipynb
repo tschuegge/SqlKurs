{
 "cells": [
  {
   "cell_type": "markdown",
   "metadata": {},
   "source": [
    "# SQL Kurs Teil 2.1: DDL Create Alter Drop\n",
    "\n",
    "Mit dem Befehl `CREATE` werden neue Tabellen in die Datenbank eingefügt, mit `ALTER` werden bestehende Tabellen geändert und mit `DROP` werden Tabellen gelöscht. Neben Tabellen werden mit den Befehlen auch andere Elemente des Schema (wie Views, Indexes oder Trigger) manipuliert.\n",
    "\n",
    "\n",
    "## Syntax\n",
    "\n",
    "```sql\n",
    "-- Create\n",
    "CREATE TABLE\n",
    "  IF NOT EXISTS  -- optionale Angabe, damit Tabelle nur erstellt wird, falls sie nicht existiert\n",
    "  {Tabellenname} (\n",
    "    {Spaltenname} {Datentyp} {optionale Angaben zur Einschränkungen, Indexes, Schlüsseln}\n",
    "  )\n",
    "\n",
    "-- Alter\n",
    "ALTER TABLE {Tabellenname} RENAME TO {Neuer Tabellenname}  -- Tabelle umbenennen\n",
    "ALTER TABLE {Tabellenname} RENAME COLUMN {Spaltenname} TO {Neuer Spaltenname}  -- Spalte umbenennen\n",
    "ALTER TABLE {Tabellenname} ADD COLUMN {Spaltenname} {Datentyp} {optionale Angaben zur Einschränkungen, Indexes, Schlüsseln}  -- Neue Spalte einfügen\n",
    "ALTER TABLE {Tabellenname} DROP COLUMN {Spaltenname}  -- Spalte löschen\n",
    "\n",
    "-- Drop\n",
    "DROP TABLE\n",
    "  IF EXISTS  -- optionale Angabe, damit Tabelle nur gelöscht wird, falls sie nicht existiert\n",
    "  {Tabellenname}\n",
    "```\n",
    "\n",
    "\n",
    "### Create Table\n",
    "\n",
    "Neue Tabellen werden mit `CREATE TABLE` erstellt.\n",
    "\n",
    "```sql\n",
    "CREATE TABLE IF NOT EXISTS neueadresstabelle (\n",
    "  id INTEGER PRIMARY KEY AUTOINCREMENT,  -- Primärschlüssel (PRIMARY KEY) als Ganzzahl, der als Standardwert immer die nächst höhere Zahl einfügt (AUTOINCREMENT)\n",
    "  nachname TEXT NOT NULL,  -- Textspalte die zwingend ist (NOT NULL)\n",
    "  vorname TEXT,  -- Textspalte die optional ist (NULL ist die Standardvorgabe und kann daher weggelassen werden)\n",
    "  email TEXT UNIQUE,  -- Textspalte bei der jeder Wert eindeutig sein muss (UNIQUE), UNIQUE ist ein Index, welcher die Einzigartigkeit der Werte sicherstellt\n",
    "  status INTEGER NOT NULL CHECK(status BETWEEN 1 AND 3),  -- Zwingende Ganzzahl bei der eine Überprüfung vorgenommen wird (CHECK), als Überprüfung kann ein beliebiger Ausdruck verwendet werden\n",
    "  lieblingsartikel INTEGER REFERENCES artikel(id),  -- Optionaler Fremdschlüssel auf ID des Artikels (REFERENCES), Datentyp muss übereinstimmen\n",
    "  erstelltvon TEXT NOT NULL DEFAULT 'admin',  -- Zwingende Textspalte mit Standardwert (DEFAULT)\n",
    "  erstelltam INTEGER NOT NULL DEFAULT CURRENT_TIMESTAMP  -- Zwingende Ganzzahl mit dem aktuellen Timestamp als Standardwert (DEFAULT CURRENT_TIMESTAMP)\n",
    ")\n",
    "```\n",
    "\n",
    "Weitere Informationen: [Create Table](https://www.sqlite.org/lang_createtable.html)\n",
    "\n",
    "\n",
    "### Alter Table\n",
    "\n",
    "Mit `ALTER TABLE` Tabellen können umbenannt oder die Spalten verändert werden.\n",
    "**Vorsicht**, wenn eine Spalte gelöscht wird, sind _alle_ Werte darin verloren.\n",
    "\n",
    "```sql\n",
    "-- Tabelle umbenennen\n",
    "ALTER TABLE neueadresstabelle\n",
    "  RENAME TO neueadresstabelle_sicherung\n",
    "\n",
    "-- Spalte umbenennen\n",
    "ALTER TABLE neueadresstabelle\n",
    "  RENAME COLUMN email TO e_mail\n",
    "\n",
    "-- Spalte hinzufügen\n",
    "ALTER TABLE neueadresstabelle\n",
    "  ADD COLUMN ort TEXT NOT NULL DEFAULT 'St. Gallen'  -- Falls eine zwingende Spalte hinzugefügt wird, muss ein Standardwert angegeben werden,\n",
    "                                                     -- da sonst NULL eingefügt würde, und NULL ist bei zwingenden Spalten nicht erlaubt.\n",
    "\n",
    "-- Spalte löschen\n",
    "ALTER TABLE neueadresstabelle\n",
    "  DROP COLUMN vorname\n",
    "```\n",
    "\n",
    "Weitere Informationen: [Alter Table](https://www.sqlite.org/lang_altertable.html)\n",
    "\n",
    "\n",
    "### Drop Table\n",
    "\n",
    "`DROP TABLE` löscht eine Tabelle in der Datenbank.\n",
    "**Vorsicht**, wenn eine Tabelle gelöscht wird, sind _alle_ Werte darin verloren.\n",
    "\n",
    "```sql\n",
    "DROP TABLE IF EXISTS neueadresstabelle\n",
    "```\n",
    "\n",
    "Weitere Informationen: [Drop Table](https://www.sqlite.org/lang_droptable.html)"
   ]
  },
  {
   "cell_type": "markdown",
   "metadata": {},
   "source": [
    "## Aufgaben"
   ]
  },
  {
   "cell_type": "code",
   "execution_count": null,
   "metadata": {},
   "outputs": [],
   "source": [
    "# Ausführen um die Verbindung zur Datenbank aufzubauen\n",
    "\n",
    "import urllib.request\n",
    "urllib.request.urlretrieve(\"https://github.com/tschuegge/SqlKurs/raw/master/connect.py\", \"connect.py\")\n",
    "def sql(): pass\n",
    "%run ./connect.py"
   ]
  },
  {
   "cell_type": "markdown",
   "metadata": {},
   "source": [
    "### Aufgabe 2.1.1\n",
    "\n",
    "Im Kundenstamm soll nur noch eine Telefonnummer geführt werden. Daher muss die private Telefonnummer in die zukünftige Spalte \"telefon\" übernommen und die geschäftliche Telefonnummer gelöscht werden:"
   ]
  },
  {
   "cell_type": "code",
   "execution_count": null,
   "metadata": {},
   "outputs": [],
   "source": [
    "sql(\"\"\"\n",
    "\n",
    "\n",
    "\n",
    "\"\"\")"
   ]
  },
  {
   "cell_type": "code",
   "execution_count": null,
   "metadata": {},
   "outputs": [],
   "source": [
    "# Kontrolle\n",
    "\n",
    "sql(\"SELECT * FROM kunde\")"
   ]
  },
  {
   "cell_type": "markdown",
   "metadata": {},
   "source": [
    "### Aufgabe 2.1.2\n",
    "\n",
    "Es soll ein Ranking zu den Artikeln hinzugefügt werden. Das Ranking darf nur die Werte _A_, _B_ oder _C_ beinhalten, der Wert ist zwingend und zu Beginn sind alle Artikel als _C_ eingestuft."
   ]
  },
  {
   "cell_type": "code",
   "execution_count": null,
   "metadata": {},
   "outputs": [],
   "source": [
    "sql(\"\"\"\n",
    "\n",
    "\n",
    "\n",
    "\"\"\")"
   ]
  },
  {
   "cell_type": "code",
   "execution_count": null,
   "metadata": {},
   "outputs": [],
   "source": [
    "# Kontrolle\n",
    "\n",
    "sql(\"SELECT * FROM artikel\")"
   ]
  },
  {
   "cell_type": "markdown",
   "metadata": {},
   "source": [
    "### Aufgabe 2.1.3\n",
    "\n",
    "Es wird eine Tabelle mit dem Namen _supportanfragen_ benötigt um Supportanfragen zu Artikeln zu verwalten. Folgende Informationen müssen gespeichert werden:\n",
    "- Kunde der die Anfrage stellt\n",
    "- Artikel den es betrifft\n",
    "- Anfrage in Textform\n",
    "- Details zur Anfrage in Textform, müssen nicht immer vorhanden sein\n",
    "- Mitarbeiter der die Anfrage beantwortet\n",
    "- Status der Anfrage, kann _offen_ oder _erledigt_ sein\n",
    "- Zeitpunkt der Erstellung"
   ]
  },
  {
   "cell_type": "code",
   "execution_count": null,
   "metadata": {},
   "outputs": [],
   "source": [
    "sql(\"\"\"\n",
    "\n",
    "\n",
    "\n",
    "\"\"\")"
   ]
  },
  {
   "cell_type": "code",
   "execution_count": null,
   "metadata": {},
   "outputs": [],
   "source": [
    "# Kontrolle\n",
    "\n",
    "sql(\"SELECT * FROM supportanfragen\")"
   ]
  },
  {
   "cell_type": "markdown",
   "metadata": {},
   "source": [
    "### Aufgabe 2.1.4\n",
    "\n",
    "Es soll sichergestellt werden, dass keine Doubletten bei den Herstellern vorkommen können:"
   ]
  },
  {
   "cell_type": "code",
   "execution_count": null,
   "metadata": {},
   "outputs": [],
   "source": [
    "sql(\"\"\"\n",
    "\n",
    "\n",
    "\n",
    "\"\"\")"
   ]
  },
  {
   "cell_type": "code",
   "execution_count": null,
   "metadata": {},
   "outputs": [],
   "source": [
    "# Kontrolle\n",
    "\n",
    "sql(\"SELECT * FROM hersteller\")"
   ]
  }
 ],
 "metadata": {
  "interpreter": {
   "hash": "31f2aee4e71d21fbe5cf8b01ff0e069b9275f58929596ceb00d14d90e3e16cd6"
  },
  "kernelspec": {
   "display_name": "Python 3.8.9 64-bit",
   "name": "python3"
  },
  "language_info": {
   "codemirror_mode": {
    "name": "ipython",
    "version": 3
   },
   "file_extension": ".py",
   "mimetype": "text/x-python",
   "name": "python",
   "nbconvert_exporter": "python",
   "pygments_lexer": "ipython3",
   "version": "3.9.12"
  },
  "orig_nbformat": 4
 },
 "nbformat": 4,
 "nbformat_minor": 2
}
