{
 "cells": [
  {
   "cell_type": "markdown",
   "metadata": {},
   "source": [
    "# SQL Kurs Teil 1.1: DQL Select Basics\n",
    "\n",
    "`SELECT` ruft Daten aus der Datenbank ab und mit `ORDER BY` werden die Spalten sortiert, falls notwendig.\n",
    "\n",
    "## Syntax\n",
    "```sql\n",
    "SELECT {Resultat-Spalten} FROM {Tabelle} ORDER BY {Spalte} ASC/DESC\n",
    "```\n",
    "\n",
    "Weitere Informationen: [Simple Select Statement](https://www.sqlite.org/lang_select.html#simple_select_processing)\n",
    "\n",
    "\n",
    "## Beispiele\n",
    "\n",
    "Alle Spalten der Tabelle _Artikel_ ausgeben und diese nach Preis aufsteigend sortieren:\n",
    "```sql\n",
    "SELECT * FROM artikel ORDER BY nettopreis ASC -- ASC ist optional\n",
    "```\n",
    "\n",
    "Bestimmte Spalten ausgeben und teilweise umbenennen:\n",
    "```sql\n",
    "SELECT\n",
    "  bezeichnung AS Bez,  -- Spalte umbenannt\n",
    "  nettopreis Preis,    -- 'AS' ist optional\n",
    "  bestand,\n",
    "  mindestbestand\n",
    "FROM artikel\n",
    "```\n",
    "\n",
    "Mit den Spalten rechnen:\n",
    "```sql\n",
    "SELECT\n",
    "  bestand - mindestbestand AS VerfügbarerBestand, -- Mathematisch\n",
    "  artikelnr || ' - ' || bezeichnung AS Titel,     -- Zeichenketten zusammensetzen (siehe Hinweis unten),\n",
    "                                                  -- konstante Zeichenketten werden mit ' angegeben\n",
    "  *\n",
    "FROM artikel\n",
    "ORDER BY VerfügbarerBestand DESC                  -- Auch nach berechneten Spalten kann sortiert werden\n",
    "```\n",
    "\n",
    "Hinweis: In anderen Dialekten wird der Befehl `CONCAT()` (SQL Standard) oder `+` (T-SQL) verwendet "
   ]
  },
  {
   "cell_type": "markdown",
   "metadata": {},
   "source": [
    "## Aufgaben"
   ]
  },
  {
   "cell_type": "code",
   "execution_count": null,
   "metadata": {},
   "outputs": [],
   "source": [
    "# Ausführen um die Verbindung zur Datenbank aufzubauen\n",
    "\n",
    "import sqlite3\n",
    "import pandas as pd\n",
    "import urllib.request\n",
    "\n",
    "urllib.request.urlretrieve(\"https://github.com/tschuegge/SqlKurs/raw/master/database.db\", \"database.db\")\n",
    "conn = sqlite3.connect(\"database.db\")\n",
    "\n",
    "def query(query):\n",
    "  return pd.read_sql_query(query, conn)\n",
    "\n",
    "print(\"😊 Verbunden mit Sqlite \" + sqlite3.sqlite_version)"
   ]
  },
  {
   "cell_type": "markdown",
   "metadata": {},
   "source": [
    "### Aufgabe 1.1.1\n",
    "\n",
    "Rufe alle Informationen aller Mitarbeiter sortiert nach Nachname ab."
   ]
  },
  {
   "cell_type": "code",
   "execution_count": null,
   "metadata": {},
   "outputs": [],
   "source": [
    "query(\"\"\"\n",
    "\n",
    "\n",
    "\n",
    "\"\"\")"
   ]
  },
  {
   "cell_type": "markdown",
   "metadata": {},
   "source": [
    "### Aufgabe 1.1.2\n",
    "\n",
    "Ermittle von allen Kunden den Vornamen, Nachname und Ort und sortiere diese nach Ort und Nachname."
   ]
  },
  {
   "cell_type": "code",
   "execution_count": null,
   "metadata": {},
   "outputs": [],
   "source": [
    "query(\"\"\"\n",
    "\n",
    "\n",
    "\n",
    "\"\"\")"
   ]
  },
  {
   "cell_type": "markdown",
   "metadata": {},
   "source": [
    "### Aufgabe 1.1.3\n",
    "\n",
    "Gib eine Lohnliste mit folgenden Spalten aus:\n",
    "- name: Nachname und Vorname kombiniert\n",
    "- ort: Postleitzahl und Ort kombiniert\n",
    "- lohn: Gehalt mit vorangestellter Währung (CHF)\n",
    "\n",
    "Gib die Liste nach Gehalt absteigend sortiert aus."
   ]
  },
  {
   "cell_type": "code",
   "execution_count": null,
   "metadata": {},
   "outputs": [],
   "source": [
    "query(\"\"\"\n",
    "\n",
    "\n",
    "\n",
    "\"\"\")"
   ]
  },
  {
   "cell_type": "markdown",
   "metadata": {},
   "source": [
    "### Aufgabe 1.1.4\n",
    "\n",
    "Gib eine nach Nettopreis absteigend sortierte Artikelliste aus, ohne den Hersteller, MwSt, Bestände, Artikelkategorie und Bestellvorschlag."
   ]
  },
  {
   "cell_type": "code",
   "execution_count": null,
   "metadata": {},
   "outputs": [],
   "source": [
    "query(\"\"\"\n",
    "\n",
    "\n",
    "\n",
    "\"\"\")"
   ]
  }
 ],
 "metadata": {
  "interpreter": {
   "hash": "31f2aee4e71d21fbe5cf8b01ff0e069b9275f58929596ceb00d14d90e3e16cd6"
  },
  "kernelspec": {
   "display_name": "Python 3.8.9 64-bit",
   "name": "python3"
  },
  "language_info": {
   "codemirror_mode": {
    "name": "ipython",
    "version": 3
   },
   "file_extension": ".py",
   "mimetype": "text/x-python",
   "name": "python",
   "nbconvert_exporter": "python",
   "pygments_lexer": "ipython3",
   "version": "3.8.9"
  },
  "orig_nbformat": 4
 },
 "nbformat": 4,
 "nbformat_minor": 2
}
