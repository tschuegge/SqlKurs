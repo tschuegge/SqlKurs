{
 "cells": [
  {
   "cell_type": "code",
   "execution_count": null,
   "metadata": {},
   "outputs": [],
   "source": [
    "# Ausführen um die Verbindung zur Datenbank aufzubauen\n",
    "\n",
    "import urllib.request\n",
    "urllib.request.urlretrieve(\"https://github.com/tschuegge/SqlKurs/raw/master/connect.py\", \"connect.py\")\n",
    "def sql(): pass\n",
    "%run ./connect.py"
   ]
  },
  {
   "cell_type": "code",
   "execution_count": null,
   "metadata": {},
   "outputs": [],
   "source": [
    "# Aufgabe 2.1.1\n",
    "sql(\"\"\"\n",
    "\n",
    "-- private Telefonnummer als neue Telefonnummer-Spalte übernehmen\n",
    "ALTER TABLE kunde RENAME COLUMN telefonprivat TO telefon\n",
    "\n",
    "\"\"\")\n",
    "sql(\"\"\"\n",
    "\n",
    "-- geschäftliche Telefonnummer löschen\n",
    "ALTER TABLE kunde DROP COLUMN telefongeschaeft\n",
    "\n",
    "\"\"\")"
   ]
  },
  {
   "cell_type": "code",
   "execution_count": null,
   "metadata": {},
   "outputs": [],
   "source": [
    "# Aufgabe 2.1.2\n",
    "# Bug in Sqlite 3.38.2 verhindert diese Lösung: https://sqlite.org/forum/info/7aa66ad5d23400c55417e096523978604a70e5f6ad2ee138804b2ac46a373f07\n",
    "sql(\"\"\"\n",
    "\n",
    "ALTER TABLE artikel\n",
    "  ADD COLUMN ranking TEXT NOT NULL DEFAULT 'C' CHECK(ranking IN('A', 'B', 'C'));\n",
    "\n",
    "\"\"\")"
   ]
  },
  {
   "cell_type": "code",
   "execution_count": null,
   "metadata": {},
   "outputs": [],
   "source": [
    "# Aufgabe 2.1.3\n",
    "\n",
    "sql(\"\"\"\n",
    "\n",
    "CREATE TABLE supportanfragen (\n",
    "  id INTEGER PRIMARY KEY AUTOINCREMENT,\n",
    "  kunde INTEGER NOT NULL REFERENCES kunde(id),\n",
    "  artikel INTEGER NOT NULL REFERENCES artikel(id),\n",
    "  anfrage TEXT NOT NULL,\n",
    "  details TEXT,\n",
    "  mitarbeiter INTEGER NOT NULL REFERENCES mitarbeiter(id),\n",
    "  status TEXT NOT NULL CHECK(status IN('offen', 'erledigt')),\n",
    "  erstellungszeitpunkt INTEGER NOT NULL DEFAULT CURRENT_TIMESTAMP\n",
    ");\n",
    "\n",
    "\"\"\")"
   ]
  },
  {
   "cell_type": "code",
   "execution_count": null,
   "metadata": {},
   "outputs": [],
   "source": [
    "# Aufgabe 2.1.4\n",
    "\n",
    "sql(\"\"\"\n",
    "\n",
    "-- Unique-Contraints sind Indexes und ein Index kann nachträglich einer bestehenden Tabelle hinzugefügt werden\n",
    "CREATE UNIQUE INDEX uniquehersteller ON hersteller(name)\n",
    "\n",
    "\"\"\")"
   ]
  }
 ],
 "metadata": {
  "interpreter": {
   "hash": "31f2aee4e71d21fbe5cf8b01ff0e069b9275f58929596ceb00d14d90e3e16cd6"
  },
  "kernelspec": {
   "display_name": "Python 3.8.9 64-bit",
   "name": "python3"
  },
  "language_info": {
   "codemirror_mode": {
    "name": "ipython",
    "version": 3
   },
   "file_extension": ".py",
   "mimetype": "text/x-python",
   "name": "python",
   "nbconvert_exporter": "python",
   "pygments_lexer": "ipython3",
   "version": "3.9.12"
  },
  "orig_nbformat": 4
 },
 "nbformat": 4,
 "nbformat_minor": 2
}
