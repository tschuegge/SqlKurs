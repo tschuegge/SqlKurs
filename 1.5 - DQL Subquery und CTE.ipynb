{
 "cells": [
  {
   "cell_type": "markdown",
   "metadata": {},
   "source": [
    "# SQL Kurs Teil 1.5: DQL Subquery and Common Table Expressions\n",
    "\n",
    "Mit Subquerys können komplexe Abfragen vereinfacht werden, durch Common Table Expressions können Subquerys mehrfach verwendet werden.\n",
    "\n",
    "## Syntax\n",
    "```sql\n",
    "-- Subquery\n",
    "SELECT {Resultat-Spalten oder Subquerys} FROM {Subquery} WHERE {Spalte} IN ({Subquery})\n",
    "\n",
    "-- Common Table Expression\n",
    "WITH {Name der CTE} ( {Ergebnisspalten} ) AS ( {Query} )\n",
    "SELECT {Spalten} FROM {Name der CTE}\n",
    "```\n",
    "\n",
    "\n",
    "### Subquery\n",
    "\n",
    "Querys können beliebig ineinander verschachtelt werden. Dabei ist auf die Performance der Abfrage zu achten.\n",
    "Häufig werden Subquerys in WHERE-Ausdrücken verwendet.\n",
    "\n",
    "```sql\n",
    "SELECT *\n",
    "FROM kunde\n",
    "WHERE name IN (SELECT name FROM mitarbeiter)\n",
    "```\n",
    "\n",
    "Weitere Informationen: [Subquery Expressions](https://www.sqlite.org/lang_expr.html#subq)\n",
    "\n",
    "\n",
    "### Common Table Expression\n",
    "\n",
    "CTEs sind wie Views, welche nur für die Dauer einer Query aufgebaut werden.\n",
    "\n",
    "```sql\n",
    "WITH mitarbeitername_CTE AS (SELECT name FROM mitarbeiter)\n",
    "SELECT * FROM kunde WHERE name IN mitarbeitername_CTE\n",
    "```\n",
    "\n",
    "Weitere Informationen: [The WITH Clause](https://www.sqlite.org/lang_with.html)\n",
    "\n",
    "## Beispiele\n",
    "\n",
    "Alle Kunden ausgeben, die in den gleichen Ortschaften die Mitarbeitende wohnen:\n",
    "```sql\n",
    "SELECT *\n",
    "FROM kunde\n",
    "WHERE ort IN (SELECT ort FROM mitarbeiter)\n",
    "```\n",
    "\n",
    "Herstellerliste mit meistverkauftem Artikel:\n",
    "```sql\n",
    "-- CTE selektiert die Bestellmengen aller Artikel, inkl. Herstellername\n",
    "WITH Bestellmenge_CTE(Herstellername, Artikelbezeichnung, Bestellmenge) AS (\n",
    "  SELECT\n",
    "    h.name Herstellername,\n",
    "    a.bezeichnung Artikelbezeichnung,\n",
    "    SUM(p.bestellmenge) Bestellmenge\n",
    "  FROM bestellungposition p\n",
    "    LEFT JOIN artikel a ON a.id = p.artikelid\n",
    "    LEFT JOIN hersteller h ON h.id = a.herstellerid\n",
    "  GROUP BY a.bezeichnung\n",
    ")\n",
    "\n",
    "-- Beginn der eigentlichen Abfrage\n",
    "SELECT\n",
    "  name,\n",
    "  (SELECT Artikelbezeichnung\n",
    "   FROM Bestellmenge_CTE \n",
    "   WHERE Herstellername = name \n",
    "   ORDER BY Bestellmenge DESC \n",
    "   LIMIT 1\n",
    "  ) TopArtikel,                  -- Meistverkaufter Artikel wird aus CTE selektiert\n",
    "  (SELECT Bestellmenge\n",
    "   FROM Bestellmenge_CTE\n",
    "   WHERE Herstellername = name\n",
    "   ORDER BY Bestellmenge DESC\n",
    "   LIMIT 1\n",
    "  ) MengeTopArtikel              -- Bestellmenge des meistverkauften Artikels wird aus CTE selektiert\n",
    "FROM hersteller\n",
    "```"
   ]
  },
  {
   "cell_type": "markdown",
   "metadata": {},
   "source": [
    "## Aufgaben"
   ]
  },
  {
   "cell_type": "code",
   "execution_count": null,
   "metadata": {},
   "outputs": [],
   "source": [
    "# Ausführen um die Verbindung zur Datenbank aufzubauen\n",
    "\n",
    "import sqlite3\n",
    "import pandas as pd\n",
    "import urllib.request\n",
    "\n",
    "urllib.request.urlretrieve(\"https://github.com/tschuegge/SqlKurs/raw/master/database.db\", \"database.db\")\n",
    "conn = sqlite3.connect(\"database.db\")\n",
    "\n",
    "def query(query):\n",
    "  return pd.read_sql_query(query, conn)\n",
    "\n",
    "print(\"😊 Verbunden mit Sqlite \" + sqlite3.sqlite_version)"
   ]
  },
  {
   "cell_type": "markdown",
   "metadata": {},
   "source": [
    "### Aufgabe 1.5.1\n",
    "\n",
    "Erstelle eine Liste mit allen Herstellern, von denen keine Artikel verkauft wurden:"
   ]
  },
  {
   "cell_type": "code",
   "execution_count": null,
   "metadata": {},
   "outputs": [],
   "source": [
    "query(\"\"\"\n",
    "\n",
    "\n",
    "\n",
    "\"\"\")"
   ]
  },
  {
   "cell_type": "markdown",
   "metadata": {},
   "source": [
    "### Aufgabe 1.5.2\n",
    "\n",
    "Welche Artikel wurden in Ortschaften verkauft in denen ein Mitarbeitender wohnt?"
   ]
  },
  {
   "cell_type": "code",
   "execution_count": null,
   "metadata": {},
   "outputs": [],
   "source": [
    "query(\"\"\"\n",
    "\n",
    "\n",
    "\n",
    "\"\"\")"
   ]
  },
  {
   "cell_type": "markdown",
   "metadata": {},
   "source": [
    "### Aufgabe 1.5.3\n",
    "\n",
    "Erstelle eine Liste mit allen Verkäufern und deren Lieblingshersteller (Hersteller von dem am meisten Artikel verkauft wurden):"
   ]
  },
  {
   "cell_type": "code",
   "execution_count": null,
   "metadata": {},
   "outputs": [],
   "source": [
    "query(\"\"\"\n",
    "\n",
    "\n",
    "\n",
    "\"\"\")"
   ]
  }
 ],
 "metadata": {
  "interpreter": {
   "hash": "31f2aee4e71d21fbe5cf8b01ff0e069b9275f58929596ceb00d14d90e3e16cd6"
  },
  "kernelspec": {
   "display_name": "Python 3.8.9 64-bit",
   "name": "python3"
  },
  "language_info": {
   "codemirror_mode": {
    "name": "ipython",
    "version": 3
   },
   "file_extension": ".py",
   "mimetype": "text/x-python",
   "name": "python",
   "nbconvert_exporter": "python",
   "pygments_lexer": "ipython3",
   "version": "3.8.9"
  },
  "orig_nbformat": 4
 },
 "nbformat": 4,
 "nbformat_minor": 2
}
