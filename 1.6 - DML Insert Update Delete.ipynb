{
 "cells": [
  {
   "cell_type": "markdown",
   "metadata": {},
   "source": [
    "# SQL Kurs Teil 1.6: DML Insert Update Delete\n",
    "\n",
    "Mit dem Befehl `INSERT` werden neue Daten in die Datenbank eingefügt, mit `UPDATE` werden bestehende Daten geändert und mit `DELETE` werden Daten gelöscht.\n",
    "\n",
    "Hinweis: Falls für die Bearbeitung von Daten mehrere Statements notwendig sind, dann sind mehrere `sql(\"\"\"   \"\"\")` Befehle notwendig. Pro `sql(\"\"\"    \"\"\")`-Block ist nur ein Statement möglich.\n",
    "\n",
    "\n",
    "## Syntax\n",
    "\n",
    "```sql\n",
    "-- Insert\n",
    "INSERT INTO {Tabelle} ( {Spalten} ) VALUES ( {kommagetrennte Werte} )\n",
    "INSERT INTO {Tabelle} ( {Spalten} ) {Subquery}\n",
    "\n",
    "-- Update\n",
    "UPDATE {Tabelle} SET {Spalte} = {Wert} WHERE {Expression}\n",
    "\n",
    "-- Delete\n",
    "DELETE FROM {Tabelle} WHERE {Expression}\n",
    "```\n",
    "\n",
    "\n",
    "### Insert\n",
    "\n",
    "Neue Daten können als kommagetrennte Werte oder als Subquery eingefügt werden.\n",
    "Auf die Angabe der Spalten kann verzichtet werden, wenn für alle Spalten Werte angegeben werden und die Reihenfolge der Werte mit der Reihenfolge der Spalten in der Datenbank übereinstimmt.\n",
    "Spalten werden einen Standardwert definiert haben oder Null-Werte zulassen, müssen nicht mit Wert befüllt werden (z.B. `AUTOINCREMENT`).\n",
    "\n",
    "```sql\n",
    "-- Spalten können weggelassen werden, entspricht: INSERT INTO abteilung (id, bezeichnung) VALUES (7, 'Entwicklung')\n",
    "INSERT INTO abteilung VALUES (7, 'Entwicklung')\n",
    "\n",
    "-- Es können mehrere Datensätze eingefügt werden\n",
    "INSERT INTO abteilung VALUES (7, 'Entwicklung'), (8, 'Produktion')\n",
    "\n",
    "-- Spalte \"id\" kann weggelassen werden, da \"autoincrement\" auf der Spalte aktiviert ist und immer der nächst höhere Wert eingefügt wird\n",
    "INSERT INTO abteilung (bezeichnung) VALUES ('Entwicklung')\n",
    "\n",
    "-- für jeden Hersteller wird eine Abteilung eingefügt\n",
    "INSERT INTO abteilung (bezeichnung) SELECT name FROM hersteller\n",
    "```\n",
    "\n",
    "Weitere Informationen: [Insert](https://www.sqlite.org/lang_insert.html)\n",
    "\n",
    "\n",
    "### Update\n",
    "\n",
    "Mit `UPDATE` werden Daten verändert. Dabei können die angegebenen Werte oder das Ergebnis einer Abfrage (mit `FROM`) verwendet werden.  \n",
    "**Vorsicht**, wenn die WHERE-Bedingung vergessen wird, dann werden _alle_ Daten der Tabelle aktualisiert.\n",
    "\n",
    "```sql\n",
    "-- Name eines Mitarbeiters ändern\n",
    "UPDATE mitarbeiter SET name = 'Meier', vorname = 'Stephan' WHERE id = 3 -- immer Primärschlüssel explizit angeben,\n",
    "                                                                        -- wenn nur ein einzelner Datensatz verändert werden soll\n",
    "\n",
    "-- Bezeichnung der MwSt-Sätze erweitern\n",
    "UPDATE mwstsatz SET bezeichnung = 'Satz ' || bezeichnung -- bestehende Werte können verwendet werden\n",
    "```\n",
    "\n",
    "Weitere Informationen: [Update](https://www.sqlite.org/lang_update.html)\n",
    "\n",
    "\n",
    "### Delete\n",
    "\n",
    "`DELETE` löscht Datensätze in der Datenbank.  \n",
    "**Vorsicht**, wenn die WHERE-Bedingung vergessen wird, dann werden _alle_ Daten der Tabelle gelöscht.\n",
    "\n",
    "```sql\n",
    "-- Eine Bestellungsposition löschen\n",
    "DELETE FROM bestellungposition WHERE id = 2\n",
    "\n",
    "-- Eine Bestellung löschen\n",
    "DELETE FROM bestellungposition WHERE bestellungkopfid = 2;  -- zuerst die Positionen löschen\n",
    "                                                            -- da eine Fremdschlüsselbeziehung auf den Bestellungskopf besteht\n",
    "DELETE FROM bestellungkopf WHERE id = 2;\n",
    "```\n",
    "\n",
    "Weitere Informationen: [Delete](https://www.sqlite.org/lang_delete.html)"
   ]
  },
  {
   "cell_type": "markdown",
   "metadata": {},
   "source": [
    "## Aufgaben"
   ]
  },
  {
   "cell_type": "code",
   "execution_count": null,
   "metadata": {},
   "outputs": [],
   "source": [
    "# Ausführen um die Verbindung zur Datenbank aufzubauen\n",
    "\n",
    "import urllib.request\n",
    "urllib.request.urlretrieve(\"https://github.com/tschuegge/SqlKurs/raw/master/connect.py\", \"connect.py\")\n",
    "def sql(): pass\n",
    "%run ./connect.py"
   ]
  },
  {
   "cell_type": "markdown",
   "metadata": {},
   "source": [
    "### Aufgabe 1.6.1\n",
    "\n",
    "Eine neue Kundin muss in die Datenbank eingefügt werden:\n",
    "\n",
    "Raphaela Iten  \n",
    "Alte Zugerbergstrasse 43  \n",
    "6314 Unterägeri\n",
    "\n",
    "Tel P: 041 754 23 85  \n",
    "E-Mail: r.iten@bluewin.ch\n",
    "\n",
    "Die Kundin bezahlt per Rechnung (Zahlungsart: R) und hat keine Geschäftstelefonnummer. Ausserdem sind die Kundennummern aufsteigend."
   ]
  },
  {
   "cell_type": "code",
   "execution_count": null,
   "metadata": {},
   "outputs": [],
   "source": [
    "sql(\"\"\"\n",
    "\n",
    "\n",
    "\n",
    "\"\"\")"
   ]
  },
  {
   "cell_type": "code",
   "execution_count": null,
   "metadata": {},
   "outputs": [],
   "source": [
    "# Kontrolle\n",
    "\n",
    "sql(\"SELECT * FROM kunde ORDER BY id DESC\")"
   ]
  },
  {
   "cell_type": "markdown",
   "metadata": {},
   "source": [
    "### Aufgabe 1.6.2\n",
    "\n",
    "Es gibt mehrere Gemeinden mit dem Namen Buchs. Bitte beim Ortnamen das Kantonskürzel ergänzen:\n",
    "\n",
    "PLZ  | Kanton\n",
    "-----|--------\n",
    "5033 | AG\n",
    "8107 | ZH\n",
    "9470 | SG"
   ]
  },
  {
   "cell_type": "code",
   "execution_count": null,
   "metadata": {},
   "outputs": [],
   "source": [
    "sql(\"\"\"\n",
    "\n",
    "\n",
    "\n",
    "\"\"\")"
   ]
  },
  {
   "cell_type": "code",
   "execution_count": null,
   "metadata": {},
   "outputs": [],
   "source": [
    "# Kontrolle\n",
    "\n",
    "sql(\"SELECT * FROM kunde WHERE ort LIKE 'Buchs%'\")"
   ]
  },
  {
   "cell_type": "markdown",
   "metadata": {},
   "source": [
    "### Aufgabe 1.6.3\n",
    "\n",
    "Alle Mitarbeitenden als Kunden hinzufügen (Zahlungsart: K, private Telefonnummer leer lassen):"
   ]
  },
  {
   "cell_type": "code",
   "execution_count": null,
   "metadata": {},
   "outputs": [],
   "source": [
    "sql(\"\"\"\n",
    "\n",
    "\n",
    "\n",
    "\"\"\")"
   ]
  },
  {
   "cell_type": "code",
   "execution_count": null,
   "metadata": {},
   "outputs": [],
   "source": [
    "# Kontrolle\n",
    "\n",
    "sql(\"SELECT * FROM kunde ORDER BY id DESC LIMIT 20\")"
   ]
  },
  {
   "cell_type": "markdown",
   "metadata": {},
   "source": [
    "### Aufgabe 1.6.4\n",
    "\n",
    "Alle Bestellungen vor dem 1. Januar 2011 löschen:"
   ]
  },
  {
   "cell_type": "code",
   "execution_count": null,
   "metadata": {},
   "outputs": [],
   "source": [
    "sql(\"\"\"\n",
    "\n",
    "\n",
    "\n",
    "\"\"\")"
   ]
  },
  {
   "cell_type": "code",
   "execution_count": null,
   "metadata": {},
   "outputs": [],
   "source": [
    "# Kontrolle\n",
    "\n",
    "sql(\"SELECT * FROM bestellungkopf\")"
   ]
  },
  {
   "cell_type": "markdown",
   "metadata": {},
   "source": [
    "### Aufgabe 1.6.5\n",
    "\n",
    "Rechnungsbeträge (alle Positionen, Liefermenge * Artikelnettopreis * MwSt-Satz) aller Bestellköpfe berechnen:"
   ]
  },
  {
   "cell_type": "code",
   "execution_count": null,
   "metadata": {},
   "outputs": [],
   "source": [
    "sql(\"\"\"\n",
    "\n",
    "\n",
    "\n",
    "\"\"\")"
   ]
  },
  {
   "cell_type": "code",
   "execution_count": null,
   "metadata": {},
   "outputs": [],
   "source": [
    "# Kontrolle\n",
    "\n",
    "sql(\"SELECT * FROM bestellungkopf\")"
   ]
  }
 ],
 "metadata": {
  "interpreter": {
   "hash": "31f2aee4e71d21fbe5cf8b01ff0e069b9275f58929596ceb00d14d90e3e16cd6"
  },
  "kernelspec": {
   "display_name": "Python 3.8.9 64-bit",
   "name": "python3"
  },
  "language_info": {
   "codemirror_mode": {
    "name": "ipython",
    "version": 3
   },
   "file_extension": ".py",
   "mimetype": "text/x-python",
   "name": "python",
   "nbconvert_exporter": "python",
   "pygments_lexer": "ipython3",
   "version": "3.9.12"
  },
  "orig_nbformat": 4
 },
 "nbformat": 4,
 "nbformat_minor": 2
}
